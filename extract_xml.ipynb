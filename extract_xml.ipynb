{
 "cells": [
  {
   "cell_type": "code",
   "execution_count": null,
   "id": "5332c187-86f6-4784-9389-860b399314a6",
   "metadata": {},
   "outputs": [],
   "source": [
    "import os \n",
    "from glob import glob\n",
    "import pandas as pd\n",
    "from functools import reduce\n",
    "from xml.etree import ElementTree as et"
   ]
  },
  {
   "cell_type": "code",
   "execution_count": 24,
   "id": "0a85db29-0432-412e-9386-031f5a602ebc",
   "metadata": {},
   "outputs": [],
   "source": [
    "\n",
    "xml_list=glob('./data_images/*.xml')\n",
    "xml_list=list(map(lambda x:x.replace('\\\\','/'),xml_list))"
   ]
  },
  {
   "cell_type": "code",
   "execution_count": 39,
   "id": "89a49c89-ee10-4c9e-99e9-213370768510",
   "metadata": {},
   "outputs": [],
   "source": [
    "\n",
    "def extract_text(filename):\n",
    "            tree=et.parse(filename) \n",
    "            root=tree.getroot()\n",
    "            image_name= root.find('filename').text \n",
    "    \n",
    "            width=root.find('size').find('width').text\n",
    "            height=root.find('size').find('height').text\n",
    "            objs =root.findall('object')\n",
    "            parser = []\n",
    "            for obj in objs:\n",
    "                            name = obj.find('name').text\n",
    "                            bndbox= obj.find('bndbox')\n",
    "                            xmin =bndbox.find('xmin').text\n",
    "                            xmax = bndbox.find('xmax').text\n",
    "                            ymin =bndbox.find('ymin').text\n",
    "                            ymax= bndbox.find('ymax').text\n",
    "                            parser.append([image_name, width, height, name, xmin, xmax, ymin, ymax])\n",
    "                        \n",
    "            return parser\n"
   ]
  },
  {
   "cell_type": "code",
   "execution_count": 40,
   "id": "7a0fb478-02ef-4961-99e3-ad5adef643aa",
   "metadata": {},
   "outputs": [],
   "source": [
    "parser_all=list(map(extract_text,xml_list))"
   ]
  },
  {
   "cell_type": "code",
   "execution_count": 41,
   "id": "55ee1e0c-857e-48c5-b45d-a7ff42453fe2",
   "metadata": {},
   "outputs": [],
   "source": [
    "data = reduce(lambda x,y : x+y,parser_all)"
   ]
  },
  {
   "cell_type": "code",
   "execution_count": 53,
   "id": "8059b917-5d92-4662-bdac-55bac323b7bf",
   "metadata": {},
   "outputs": [],
   "source": [
    "df=pd.DataFrame(data,columns=['filename','width','height','name','xmin','xmax','ymin','ymax'])\n"
   ]
  },
  {
   "cell_type": "code",
   "execution_count": 54,
   "id": "8652a020-b6e5-435f-b1b7-f7bc82284a85",
   "metadata": {},
   "outputs": [
    {
     "data": {
      "text/html": [
       "<div>\n",
       "<style scoped>\n",
       "    .dataframe tbody tr th:only-of-type {\n",
       "        vertical-align: middle;\n",
       "    }\n",
       "\n",
       "    .dataframe tbody tr th {\n",
       "        vertical-align: top;\n",
       "    }\n",
       "\n",
       "    .dataframe thead th {\n",
       "        text-align: right;\n",
       "    }\n",
       "</style>\n",
       "<table border=\"1\" class=\"dataframe\">\n",
       "  <thead>\n",
       "    <tr style=\"text-align: right;\">\n",
       "      <th></th>\n",
       "      <th>filename</th>\n",
       "      <th>width</th>\n",
       "      <th>height</th>\n",
       "      <th>name</th>\n",
       "      <th>xmin</th>\n",
       "      <th>xmax</th>\n",
       "      <th>ymin</th>\n",
       "      <th>ymax</th>\n",
       "    </tr>\n",
       "  </thead>\n",
       "  <tbody>\n",
       "    <tr>\n",
       "      <th>0</th>\n",
       "      <td>000001.jpg</td>\n",
       "      <td>1024</td>\n",
       "      <td>657</td>\n",
       "      <td>car</td>\n",
       "      <td>14</td>\n",
       "      <td>301</td>\n",
       "      <td>335</td>\n",
       "      <td>522</td>\n",
       "    </tr>\n",
       "    <tr>\n",
       "      <th>1</th>\n",
       "      <td>000001.jpg</td>\n",
       "      <td>1024</td>\n",
       "      <td>657</td>\n",
       "      <td>car</td>\n",
       "      <td>269</td>\n",
       "      <td>571</td>\n",
       "      <td>345</td>\n",
       "      <td>489</td>\n",
       "    </tr>\n",
       "    <tr>\n",
       "      <th>2</th>\n",
       "      <td>000001.jpg</td>\n",
       "      <td>1024</td>\n",
       "      <td>657</td>\n",
       "      <td>car</td>\n",
       "      <td>502</td>\n",
       "      <td>798</td>\n",
       "      <td>342</td>\n",
       "      <td>450</td>\n",
       "    </tr>\n",
       "    <tr>\n",
       "      <th>3</th>\n",
       "      <td>000001.jpg</td>\n",
       "      <td>1024</td>\n",
       "      <td>657</td>\n",
       "      <td>car</td>\n",
       "      <td>709</td>\n",
       "      <td>1009</td>\n",
       "      <td>333</td>\n",
       "      <td>438</td>\n",
       "    </tr>\n",
       "    <tr>\n",
       "      <th>4</th>\n",
       "      <td>000002.jpg</td>\n",
       "      <td>800</td>\n",
       "      <td>600</td>\n",
       "      <td>car</td>\n",
       "      <td>41</td>\n",
       "      <td>768</td>\n",
       "      <td>240</td>\n",
       "      <td>497</td>\n",
       "    </tr>\n",
       "  </tbody>\n",
       "</table>\n",
       "</div>"
      ],
      "text/plain": [
       "     filename width height name xmin  xmax ymin ymax\n",
       "0  000001.jpg  1024    657  car   14   301  335  522\n",
       "1  000001.jpg  1024    657  car  269   571  345  489\n",
       "2  000001.jpg  1024    657  car  502   798  342  450\n",
       "3  000001.jpg  1024    657  car  709  1009  333  438\n",
       "4  000002.jpg   800    600  car   41   768  240  497"
      ]
     },
     "execution_count": 54,
     "metadata": {},
     "output_type": "execute_result"
    }
   ],
   "source": [
    "df.head()"
   ]
  },
  {
   "cell_type": "code",
   "execution_count": 55,
   "id": "d3fa8c2d-9f07-48a1-8596-cfcd3a487d86",
   "metadata": {},
   "outputs": [],
   "source": [
    "#type conversions\n",
    "\n",
    "cols=['width','height','xmin','xmax','ymin','ymax']\n",
    "df[cols]=df[cols].astype(int)"
   ]
  },
  {
   "cell_type": "code",
   "execution_count": 56,
   "id": "a5b7a81d-574a-48f5-88f0-43f089d9dc07",
   "metadata": {},
   "outputs": [
    {
     "name": "stdout",
     "output_type": "stream",
     "text": [
      "<class 'pandas.core.frame.DataFrame'>\n",
      "RangeIndex: 15663 entries, 0 to 15662\n",
      "Data columns (total 8 columns):\n",
      " #   Column    Non-Null Count  Dtype \n",
      "---  ------    --------------  ----- \n",
      " 0   filename  15663 non-null  object\n",
      " 1   width     15663 non-null  int64 \n",
      " 2   height    15663 non-null  int64 \n",
      " 3   name      15663 non-null  object\n",
      " 4   xmin      15663 non-null  int64 \n",
      " 5   xmax      15663 non-null  int64 \n",
      " 6   ymin      15663 non-null  int64 \n",
      " 7   ymax      15663 non-null  int64 \n",
      "dtypes: int64(6), object(2)\n",
      "memory usage: 979.1+ KB\n"
     ]
    }
   ],
   "source": [
    "df.info()"
   ]
  },
  {
   "cell_type": "code",
   "execution_count": 57,
   "id": "eaa81abc-fec9-432a-8e66-73e6902097cd",
   "metadata": {},
   "outputs": [],
   "source": [
    "df['center_x']=((df['xmin'] + df['xmax'])/2)/df['width']\n",
    "df['center_y']=((df['ymin'] + df['ymax'])/2)/df['height']\n",
    "\n",
    "df['w']=(df['xmax']-df['xmin'])/df['width']\n",
    "df['h']=(df['ymax']-df['ymin'])/df['height']"
   ]
  },
  {
   "cell_type": "code",
   "execution_count": 58,
   "id": "f233c66e-4a22-4f65-ac96-d624eba0cd51",
   "metadata": {},
   "outputs": [
    {
     "data": {
      "text/html": [
       "<div>\n",
       "<style scoped>\n",
       "    .dataframe tbody tr th:only-of-type {\n",
       "        vertical-align: middle;\n",
       "    }\n",
       "\n",
       "    .dataframe tbody tr th {\n",
       "        vertical-align: top;\n",
       "    }\n",
       "\n",
       "    .dataframe thead th {\n",
       "        text-align: right;\n",
       "    }\n",
       "</style>\n",
       "<table border=\"1\" class=\"dataframe\">\n",
       "  <thead>\n",
       "    <tr style=\"text-align: right;\">\n",
       "      <th></th>\n",
       "      <th>filename</th>\n",
       "      <th>width</th>\n",
       "      <th>height</th>\n",
       "      <th>name</th>\n",
       "      <th>xmin</th>\n",
       "      <th>xmax</th>\n",
       "      <th>ymin</th>\n",
       "      <th>ymax</th>\n",
       "      <th>center_x</th>\n",
       "      <th>center_y</th>\n",
       "      <th>w</th>\n",
       "      <th>h</th>\n",
       "    </tr>\n",
       "  </thead>\n",
       "  <tbody>\n",
       "    <tr>\n",
       "      <th>0</th>\n",
       "      <td>000001.jpg</td>\n",
       "      <td>1024</td>\n",
       "      <td>657</td>\n",
       "      <td>car</td>\n",
       "      <td>14</td>\n",
       "      <td>301</td>\n",
       "      <td>335</td>\n",
       "      <td>522</td>\n",
       "      <td>0.153809</td>\n",
       "      <td>0.652207</td>\n",
       "      <td>0.280273</td>\n",
       "      <td>0.284627</td>\n",
       "    </tr>\n",
       "    <tr>\n",
       "      <th>1</th>\n",
       "      <td>000001.jpg</td>\n",
       "      <td>1024</td>\n",
       "      <td>657</td>\n",
       "      <td>car</td>\n",
       "      <td>269</td>\n",
       "      <td>571</td>\n",
       "      <td>345</td>\n",
       "      <td>489</td>\n",
       "      <td>0.410156</td>\n",
       "      <td>0.634703</td>\n",
       "      <td>0.294922</td>\n",
       "      <td>0.219178</td>\n",
       "    </tr>\n",
       "    <tr>\n",
       "      <th>2</th>\n",
       "      <td>000001.jpg</td>\n",
       "      <td>1024</td>\n",
       "      <td>657</td>\n",
       "      <td>car</td>\n",
       "      <td>502</td>\n",
       "      <td>798</td>\n",
       "      <td>342</td>\n",
       "      <td>450</td>\n",
       "      <td>0.634766</td>\n",
       "      <td>0.602740</td>\n",
       "      <td>0.289062</td>\n",
       "      <td>0.164384</td>\n",
       "    </tr>\n",
       "    <tr>\n",
       "      <th>3</th>\n",
       "      <td>000001.jpg</td>\n",
       "      <td>1024</td>\n",
       "      <td>657</td>\n",
       "      <td>car</td>\n",
       "      <td>709</td>\n",
       "      <td>1009</td>\n",
       "      <td>333</td>\n",
       "      <td>438</td>\n",
       "      <td>0.838867</td>\n",
       "      <td>0.586758</td>\n",
       "      <td>0.292969</td>\n",
       "      <td>0.159817</td>\n",
       "    </tr>\n",
       "    <tr>\n",
       "      <th>4</th>\n",
       "      <td>000002.jpg</td>\n",
       "      <td>800</td>\n",
       "      <td>600</td>\n",
       "      <td>car</td>\n",
       "      <td>41</td>\n",
       "      <td>768</td>\n",
       "      <td>240</td>\n",
       "      <td>497</td>\n",
       "      <td>0.505625</td>\n",
       "      <td>0.614167</td>\n",
       "      <td>0.908750</td>\n",
       "      <td>0.428333</td>\n",
       "    </tr>\n",
       "  </tbody>\n",
       "</table>\n",
       "</div>"
      ],
      "text/plain": [
       "     filename  width  height name  xmin  xmax  ymin  ymax  center_x  center_y  \\\n",
       "0  000001.jpg   1024     657  car    14   301   335   522  0.153809  0.652207   \n",
       "1  000001.jpg   1024     657  car   269   571   345   489  0.410156  0.634703   \n",
       "2  000001.jpg   1024     657  car   502   798   342   450  0.634766  0.602740   \n",
       "3  000001.jpg   1024     657  car   709  1009   333   438  0.838867  0.586758   \n",
       "4  000002.jpg    800     600  car    41   768   240   497  0.505625  0.614167   \n",
       "\n",
       "          w         h  \n",
       "0  0.280273  0.284627  \n",
       "1  0.294922  0.219178  \n",
       "2  0.289062  0.164384  \n",
       "3  0.292969  0.159817  \n",
       "4  0.908750  0.428333  "
      ]
     },
     "execution_count": 58,
     "metadata": {},
     "output_type": "execute_result"
    }
   ],
   "source": [
    "df.head()"
   ]
  },
  {
   "cell_type": "code",
   "execution_count": 59,
   "id": "732180ae-e552-4a74-a119-abd60704b51b",
   "metadata": {},
   "outputs": [],
   "source": [
    "images=df['filename'].unique()"
   ]
  },
  {
   "cell_type": "code",
   "execution_count": 65,
   "id": "fe569a49-07f4-4976-9f89-25fd1653f356",
   "metadata": {},
   "outputs": [],
   "source": [
    "img_df=pd.DataFrame(images,columns=['filename'])\n",
    "img_df.head()\n",
    "img_train=tuple(img_df.sample(frac=0.8)['filename'])\n",
    "img_test=tuple(img_df.query(f'filename not in {img_train}')['filename'])"
   ]
  },
  {
   "cell_type": "code",
   "execution_count": 66,
   "id": "5d208c53-8d05-4ccb-8389-c89a95489501",
   "metadata": {},
   "outputs": [
    {
     "data": {
      "text/plain": [
       "(4010, 1002)"
      ]
     },
     "execution_count": 66,
     "metadata": {},
     "output_type": "execute_result"
    }
   ],
   "source": [
    "len(img_train),len(img_test)"
   ]
  },
  {
   "cell_type": "code",
   "execution_count": 67,
   "id": "ca38dada-6454-4354-aaab-d351f545e507",
   "metadata": {},
   "outputs": [],
   "source": [
    "train_df=df.query(f'filename in {img_train}')\n",
    "test_df=df.query(f'filename in {img_test}')"
   ]
  },
  {
   "cell_type": "code",
   "execution_count": 77,
   "id": "1e80d9b4-2339-4904-a438-d46cc4b7e93c",
   "metadata": {},
   "outputs": [],
   "source": [
    "\n",
    "def label_encoding(x):\n",
    "        labels = {'person': 0, 'car':1, 'chair': 2, 'bottle':3, 'pottedplant':4, 'bird':5, 'dog':6,\n",
    "        'sofa':7, 'bicycle':8, 'horse':9, 'boat':10, 'motorbike':11, 'cat':12, 'tvmonitor' :13, 'cow':14, \n",
    "                  'sheep':15, 'aeroplane':16, 'train':17, 'diningtable' :18, 'bus':19}\n",
    "        return labels [x]"
   ]
  },
  {
   "cell_type": "code",
   "execution_count": 78,
   "id": "602920d4-218f-467e-b94b-12cf250e973a",
   "metadata": {},
   "outputs": [
    {
     "name": "stderr",
     "output_type": "stream",
     "text": [
      "C:\\Users\\praty\\AppData\\Local\\Temp\\ipykernel_19976\\179443206.py:1: SettingWithCopyWarning: \n",
      "A value is trying to be set on a copy of a slice from a DataFrame.\n",
      "Try using .loc[row_indexer,col_indexer] = value instead\n",
      "\n",
      "See the caveats in the documentation: https://pandas.pydata.org/pandas-docs/stable/user_guide/indexing.html#returning-a-view-versus-a-copy\n",
      "  train_df['id'] = train_df['name'].apply(label_encoding)\n",
      "C:\\Users\\praty\\AppData\\Local\\Temp\\ipykernel_19976\\179443206.py:2: SettingWithCopyWarning: \n",
      "A value is trying to be set on a copy of a slice from a DataFrame.\n",
      "Try using .loc[row_indexer,col_indexer] = value instead\n",
      "\n",
      "See the caveats in the documentation: https://pandas.pydata.org/pandas-docs/stable/user_guide/indexing.html#returning-a-view-versus-a-copy\n",
      "  test_df['id'] = test_df['name'].apply(label_encoding)\n"
     ]
    }
   ],
   "source": [
    " train_df['id'] = train_df['name'].apply(label_encoding)\n",
    " test_df['id'] = test_df['name'].apply(label_encoding)"
   ]
  },
  {
   "cell_type": "code",
   "execution_count": 79,
   "id": "24a7ef66-a668-47a4-a44d-111a44747cd9",
   "metadata": {},
   "outputs": [
    {
     "data": {
      "text/html": [
       "<div>\n",
       "<style scoped>\n",
       "    .dataframe tbody tr th:only-of-type {\n",
       "        vertical-align: middle;\n",
       "    }\n",
       "\n",
       "    .dataframe tbody tr th {\n",
       "        vertical-align: top;\n",
       "    }\n",
       "\n",
       "    .dataframe thead th {\n",
       "        text-align: right;\n",
       "    }\n",
       "</style>\n",
       "<table border=\"1\" class=\"dataframe\">\n",
       "  <thead>\n",
       "    <tr style=\"text-align: right;\">\n",
       "      <th></th>\n",
       "      <th>filename</th>\n",
       "      <th>width</th>\n",
       "      <th>height</th>\n",
       "      <th>name</th>\n",
       "      <th>xmin</th>\n",
       "      <th>xmax</th>\n",
       "      <th>ymin</th>\n",
       "      <th>ymax</th>\n",
       "      <th>center_x</th>\n",
       "      <th>center_y</th>\n",
       "      <th>w</th>\n",
       "      <th>h</th>\n",
       "      <th>id</th>\n",
       "    </tr>\n",
       "  </thead>\n",
       "  <tbody>\n",
       "    <tr>\n",
       "      <th>4</th>\n",
       "      <td>000002.jpg</td>\n",
       "      <td>800</td>\n",
       "      <td>600</td>\n",
       "      <td>car</td>\n",
       "      <td>41</td>\n",
       "      <td>768</td>\n",
       "      <td>240</td>\n",
       "      <td>497</td>\n",
       "      <td>0.505625</td>\n",
       "      <td>0.614167</td>\n",
       "      <td>0.908750</td>\n",
       "      <td>0.428333</td>\n",
       "      <td>1</td>\n",
       "    </tr>\n",
       "    <tr>\n",
       "      <th>5</th>\n",
       "      <td>000002.jpg</td>\n",
       "      <td>800</td>\n",
       "      <td>600</td>\n",
       "      <td>car</td>\n",
       "      <td>533</td>\n",
       "      <td>722</td>\n",
       "      <td>236</td>\n",
       "      <td>299</td>\n",
       "      <td>0.784375</td>\n",
       "      <td>0.445833</td>\n",
       "      <td>0.236250</td>\n",
       "      <td>0.105000</td>\n",
       "      <td>1</td>\n",
       "    </tr>\n",
       "    <tr>\n",
       "      <th>6</th>\n",
       "      <td>000007.jpg</td>\n",
       "      <td>500</td>\n",
       "      <td>333</td>\n",
       "      <td>car</td>\n",
       "      <td>141</td>\n",
       "      <td>500</td>\n",
       "      <td>50</td>\n",
       "      <td>330</td>\n",
       "      <td>0.641000</td>\n",
       "      <td>0.570571</td>\n",
       "      <td>0.718000</td>\n",
       "      <td>0.840841</td>\n",
       "      <td>1</td>\n",
       "    </tr>\n",
       "    <tr>\n",
       "      <th>11</th>\n",
       "      <td>000012.jpg</td>\n",
       "      <td>500</td>\n",
       "      <td>333</td>\n",
       "      <td>car</td>\n",
       "      <td>156</td>\n",
       "      <td>351</td>\n",
       "      <td>97</td>\n",
       "      <td>270</td>\n",
       "      <td>0.507000</td>\n",
       "      <td>0.551051</td>\n",
       "      <td>0.390000</td>\n",
       "      <td>0.519520</td>\n",
       "      <td>1</td>\n",
       "    </tr>\n",
       "    <tr>\n",
       "      <th>13</th>\n",
       "      <td>000017.jpg</td>\n",
       "      <td>480</td>\n",
       "      <td>364</td>\n",
       "      <td>person</td>\n",
       "      <td>185</td>\n",
       "      <td>279</td>\n",
       "      <td>62</td>\n",
       "      <td>199</td>\n",
       "      <td>0.483333</td>\n",
       "      <td>0.358516</td>\n",
       "      <td>0.195833</td>\n",
       "      <td>0.376374</td>\n",
       "      <td>0</td>\n",
       "    </tr>\n",
       "  </tbody>\n",
       "</table>\n",
       "</div>"
      ],
      "text/plain": [
       "      filename  width  height    name  xmin  xmax  ymin  ymax  center_x  \\\n",
       "4   000002.jpg    800     600     car    41   768   240   497  0.505625   \n",
       "5   000002.jpg    800     600     car   533   722   236   299  0.784375   \n",
       "6   000007.jpg    500     333     car   141   500    50   330  0.641000   \n",
       "11  000012.jpg    500     333     car   156   351    97   270  0.507000   \n",
       "13  000017.jpg    480     364  person   185   279    62   199  0.483333   \n",
       "\n",
       "    center_y         w         h  id  \n",
       "4   0.614167  0.908750  0.428333   1  \n",
       "5   0.445833  0.236250  0.105000   1  \n",
       "6   0.570571  0.718000  0.840841   1  \n",
       "11  0.551051  0.390000  0.519520   1  \n",
       "13  0.358516  0.195833  0.376374   0  "
      ]
     },
     "execution_count": 79,
     "metadata": {},
     "output_type": "execute_result"
    }
   ],
   "source": [
    "train_df.head()"
   ]
  },
  {
   "cell_type": "code",
   "execution_count": 80,
   "id": "9bd48bfd-e128-4163-aab7-2f5d51fa75b4",
   "metadata": {},
   "outputs": [],
   "source": [
    "import os\n",
    "from shutil import move"
   ]
  },
  {
   "cell_type": "code",
   "execution_count": 81,
   "id": "a0466880-a49f-4dee-9868-cf06155ea8cd",
   "metadata": {},
   "outputs": [],
   "source": [
    "train_folder='data_images/train'\n",
    "test_folder='data_images/test'\n",
    "\n",
    "os.mkdir(train_folder)\n",
    "os.mkdir(test_folder)"
   ]
  },
  {
   "cell_type": "code",
   "execution_count": 85,
   "id": "638a2fe4-6d25-4320-bbea-d0889332f5a3",
   "metadata": {},
   "outputs": [],
   "source": [
    "cols=['filename','id','center_x','center_y','w']\n",
    "groupby_obj_train=train_df[cols].groupby('filename')\n",
    "groupby_obj_test=test_df[cols].groupby('filename')"
   ]
  },
  {
   "cell_type": "code",
   "execution_count": 84,
   "id": "06aea38a-f64e-4bef-bb32-b7b7da625683",
   "metadata": {},
   "outputs": [],
   "source": [
    "def save_data(filename,folder_path,group_obj) :\n",
    "    src=os.path.join('data_images',filename)\n",
    "    dst=os.path.join(folder_path,filename)\n",
    "    move(src,dst)\n",
    "    text_filename=os.path.join(folder_path,os.path.splitext(filename)[0]+'.txt')\n",
    "    group_obj.get_group(filename).set_index('filename').to_csv('text_filename',sep=' ',index=False,header=False)\n",
    "\n",
    "    "
   ]
  },
  {
   "cell_type": "code",
   "execution_count": 87,
   "id": "9453e27c-16a0-4b1f-8d3c-4368d7a8e027",
   "metadata": {},
   "outputs": [],
   "source": [
    "filename_series=pd.Series(groupby_object_train.groups.keys())"
   ]
  },
  {
   "cell_type": "code",
   "execution_count": 88,
   "id": "576ebfa8-2348-4f49-bc6f-1e889702107b",
   "metadata": {},
   "outputs": [
    {
     "data": {
      "text/plain": [
       "0       000002.jpg\n",
       "1       000007.jpg\n",
       "2       000012.jpg\n",
       "3       000017.jpg\n",
       "4       000019.jpg\n",
       "           ...    \n",
       "4005    009949.jpg\n",
       "4006    009950.jpg\n",
       "4007    009954.jpg\n",
       "4008    009958.jpg\n",
       "4009    009959.jpg\n",
       "Length: 4010, dtype: object"
      ]
     },
     "execution_count": 88,
     "metadata": {},
     "output_type": "execute_result"
    }
   ],
   "source": [
    "filename_series"
   ]
  },
  {
   "cell_type": "code",
   "execution_count": 89,
   "id": "f445c4ea-adf9-4e0e-af91-0f6864127647",
   "metadata": {},
   "outputs": [
    {
     "data": {
      "text/plain": [
       "0       None\n",
       "1       None\n",
       "2       None\n",
       "3       None\n",
       "4       None\n",
       "        ... \n",
       "4005    None\n",
       "4006    None\n",
       "4007    None\n",
       "4008    None\n",
       "4009    None\n",
       "Length: 4010, dtype: object"
      ]
     },
     "execution_count": 89,
     "metadata": {},
     "output_type": "execute_result"
    }
   ],
   "source": [
    "filename_series.apply(save_data,args=(train_folder,groupby_obj_train))"
   ]
  },
  {
   "cell_type": "code",
   "execution_count": 90,
   "id": "f951cb4f-d71c-4bd0-8a55-9c40e2bf1c9b",
   "metadata": {},
   "outputs": [
    {
     "data": {
      "text/plain": [
       "0       None\n",
       "1       None\n",
       "2       None\n",
       "3       None\n",
       "4       None\n",
       "        ... \n",
       "997     None\n",
       "998     None\n",
       "999     None\n",
       "1000    None\n",
       "1001    None\n",
       "Length: 1002, dtype: object"
      ]
     },
     "execution_count": 90,
     "metadata": {},
     "output_type": "execute_result"
    }
   ],
   "source": [
    "filename_series_test=pd.Series(groupby_object_test.groups.keys())\n",
    "filename_series_test.apply(save_data,args=(test_folder,groupby_obj_test))"
   ]
  },
  {
   "cell_type": "code",
   "execution_count": null,
   "id": "980b6769-08ab-4aad-a5b6-5431d4cf474e",
   "metadata": {},
   "outputs": [],
   "source": []
  }
 ],
 "metadata": {
  "kernelspec": {
   "display_name": "Python 3 (ipykernel)",
   "language": "python",
   "name": "python3"
  },
  "language_info": {
   "codemirror_mode": {
    "name": "ipython",
    "version": 3
   },
   "file_extension": ".py",
   "mimetype": "text/x-python",
   "name": "python",
   "nbconvert_exporter": "python",
   "pygments_lexer": "ipython3",
   "version": "3.13.0"
  }
 },
 "nbformat": 4,
 "nbformat_minor": 5
}
